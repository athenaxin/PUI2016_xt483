{
 "cells": [
  {
   "cell_type": "markdown",
   "metadata": {},
   "source": [
    "# I prepared a dataset of hospital facilities Asthma dismissal records and uploaded it to Carto. \n",
    "## download it with an SQL query. Use the function I provide below.\n",
    "## The name of the DB is NYCAsthmasDismissals\n",
    "## *within the SQLquery* group the data by zipcode."
   ]
  },
  {
   "cell_type": "code",
   "execution_count": 100,
   "metadata": {
    "collapsed": false
   },
   "outputs": [],
   "source": [
    "import ast\n",
    "# note this is python2 compatible only. the pykriging code is also python2 only\n",
    "import urllib2\n",
    "import urllib\n",
    "from cStringIO import StringIO\n",
    "import json\n",
    "import pylab as pl\n",
    "import geopandas as gpd\n",
    "import pandas as pd\n",
    "%matplotlib inline\n",
    "\n",
    "SQL_SOURCE = 'https://fb55.carto.com/api/v2/sql'\n",
    "def queryCartoDB(query, format='CSV', source=SQL_SOURCE):\n",
    "    \"\"\" queries a url with an sql compatible search\n",
    "    Arguments:\n",
    "    query : the sql query string\n",
    "    format : the expected format\n",
    "    source \" the url of the API\n",
    "    \"\"\"\n",
    "    data = urllib.urlencode({'format': format, 'q': query})\n",
    "    try:\n",
    "        response = urllib2.urlopen(source, data)\n",
    "    except urllib2.HTTPError, e:\n",
    "        raise ValueError('\\n'.join(ast.literal_eval(e.readline())['error']))\n",
    "    except Exception:\n",
    "        raise\n",
    "    return StringIO(response.read())"
   ]
  },
  {
   "cell_type": "code",
   "execution_count": 49,
   "metadata": {
    "collapsed": false
   },
   "outputs": [
    {
     "data": {
      "text/html": [
       "<div>\n",
       "<table border=\"1\" class=\"dataframe\">\n",
       "  <thead>\n",
       "    <tr style=\"text-align: right;\">\n",
       "      <th></th>\n",
       "      <th>count</th>\n",
       "      <th>zipcodes</th>\n",
       "    </tr>\n",
       "  </thead>\n",
       "  <tbody>\n",
       "    <tr>\n",
       "      <th>0</th>\n",
       "      <td>1699</td>\n",
       "      <td>10461</td>\n",
       "    </tr>\n",
       "    <tr>\n",
       "      <th>1</th>\n",
       "      <td>405</td>\n",
       "      <td>11373</td>\n",
       "    </tr>\n",
       "    <tr>\n",
       "      <th>2</th>\n",
       "      <td>1698</td>\n",
       "      <td>10451</td>\n",
       "    </tr>\n",
       "    <tr>\n",
       "      <th>3</th>\n",
       "      <td>220</td>\n",
       "      <td>11691</td>\n",
       "    </tr>\n",
       "    <tr>\n",
       "      <th>4</th>\n",
       "      <td>246</td>\n",
       "      <td>11375</td>\n",
       "    </tr>\n",
       "    <tr>\n",
       "      <th>5</th>\n",
       "      <td>494</td>\n",
       "      <td>10466</td>\n",
       "    </tr>\n",
       "    <tr>\n",
       "      <th>6</th>\n",
       "      <td>713</td>\n",
       "      <td>11212</td>\n",
       "    </tr>\n",
       "    <tr>\n",
       "      <th>7</th>\n",
       "      <td>167</td>\n",
       "      <td>11229</td>\n",
       "    </tr>\n",
       "    <tr>\n",
       "      <th>8</th>\n",
       "      <td>521</td>\n",
       "      <td>11215</td>\n",
       "    </tr>\n",
       "    <tr>\n",
       "      <th>9</th>\n",
       "      <td>386</td>\n",
       "      <td>11220</td>\n",
       "    </tr>\n",
       "    <tr>\n",
       "      <th>10</th>\n",
       "      <td>641</td>\n",
       "      <td>11355</td>\n",
       "    </tr>\n",
       "    <tr>\n",
       "      <th>11</th>\n",
       "      <td>376</td>\n",
       "      <td>11213</td>\n",
       "    </tr>\n",
       "    <tr>\n",
       "      <th>12</th>\n",
       "      <td>567</td>\n",
       "      <td>11418</td>\n",
       "    </tr>\n",
       "    <tr>\n",
       "      <th>13</th>\n",
       "      <td>411</td>\n",
       "      <td>10310</td>\n",
       "    </tr>\n",
       "    <tr>\n",
       "      <th>14</th>\n",
       "      <td>1829</td>\n",
       "      <td>11203</td>\n",
       "    </tr>\n",
       "    <tr>\n",
       "      <th>15</th>\n",
       "      <td>281</td>\n",
       "      <td>11102</td>\n",
       "    </tr>\n",
       "    <tr>\n",
       "      <th>16</th>\n",
       "      <td>222</td>\n",
       "      <td>11234</td>\n",
       "    </tr>\n",
       "    <tr>\n",
       "      <th>17</th>\n",
       "      <td>1156</td>\n",
       "      <td>11237</td>\n",
       "    </tr>\n",
       "    <tr>\n",
       "      <th>18</th>\n",
       "      <td>421</td>\n",
       "      <td>11219</td>\n",
       "    </tr>\n",
       "    <tr>\n",
       "      <th>19</th>\n",
       "      <td>822</td>\n",
       "      <td>10457</td>\n",
       "    </tr>\n",
       "    <tr>\n",
       "      <th>20</th>\n",
       "      <td>320</td>\n",
       "      <td>11235</td>\n",
       "    </tr>\n",
       "    <tr>\n",
       "      <th>21</th>\n",
       "      <td>466</td>\n",
       "      <td>11206</td>\n",
       "    </tr>\n",
       "    <tr>\n",
       "      <th>22</th>\n",
       "      <td>1072</td>\n",
       "      <td>10456</td>\n",
       "    </tr>\n",
       "    <tr>\n",
       "      <th>23</th>\n",
       "      <td>926</td>\n",
       "      <td>11040</td>\n",
       "    </tr>\n",
       "    <tr>\n",
       "      <th>24</th>\n",
       "      <td>940</td>\n",
       "      <td>11201</td>\n",
       "    </tr>\n",
       "    <tr>\n",
       "      <th>25</th>\n",
       "      <td>2164</td>\n",
       "      <td>10467</td>\n",
       "    </tr>\n",
       "    <tr>\n",
       "      <th>26</th>\n",
       "      <td>293</td>\n",
       "      <td>11432</td>\n",
       "    </tr>\n",
       "    <tr>\n",
       "      <th>27</th>\n",
       "      <td>447</td>\n",
       "      <td>10305</td>\n",
       "    </tr>\n",
       "    <tr>\n",
       "      <th>28</th>\n",
       "      <td>145</td>\n",
       "      <td>10309</td>\n",
       "    </tr>\n",
       "  </tbody>\n",
       "</table>\n",
       "</div>"
      ],
      "text/plain": [
       "    count  zipcodes\n",
       "0    1699     10461\n",
       "1     405     11373\n",
       "2    1698     10451\n",
       "3     220     11691\n",
       "4     246     11375\n",
       "5     494     10466\n",
       "6     713     11212\n",
       "7     167     11229\n",
       "8     521     11215\n",
       "9     386     11220\n",
       "10    641     11355\n",
       "11    376     11213\n",
       "12    567     11418\n",
       "13    411     10310\n",
       "14   1829     11203\n",
       "15    281     11102\n",
       "16    222     11234\n",
       "17   1156     11237\n",
       "18    421     11219\n",
       "19    822     10457\n",
       "20    320     11235\n",
       "21    466     11206\n",
       "22   1072     10456\n",
       "23    926     11040\n",
       "24    940     11201\n",
       "25   2164     10467\n",
       "26    293     11432\n",
       "27    447     10305\n",
       "28    145     10309"
      ]
     },
     "execution_count": 49,
     "metadata": {},
     "output_type": "execute_result"
    }
   ],
   "source": [
    "# fill in the query details in facilityQuery: \n",
    "# within a single query collect AND GROUP the data by zipcode\n",
    "facilityQuery = '''\n",
    "Select zipcodes, count(zipcodes)\n",
    "FROM NYCAsthmasDismissals\n",
    "Group by zipcodes\n",
    "Limit 30\n",
    "'''\n",
    "facilityStream = queryCartoDB(facilityQuery, format='JSON')\n",
    "facilityData   = json.loads(facilityStream.read())\n",
    "facilityData\n",
    "facilities     = pd.DataFrame.from_dict(facilityData['rows'])\n",
    "facilities"
   ]
  },
  {
   "cell_type": "markdown",
   "metadata": {},
   "source": [
    "# Find a shape file with zipcode shapes for NYC, download it and open it with geopandas.\n",
    "# Merge the dataframe with the facility dismissals (the file you got on Carto)  joining on the zipcode and  use the zipcode geometry centers to extract the x and y coordinates of the zipcode center."
   ]
  },
  {
   "cell_type": "code",
   "execution_count": 85,
   "metadata": {
    "collapsed": false
   },
   "outputs": [],
   "source": [
    "from geopandas import gpd\n",
    "from fiona.crs import from_epsg\n",
    "import shapely\n",
    "\n",
    "shape_path=\"ZIP_CODE_040114.shp\"\n",
    "zip_shape = gpd.read_file(shape_path)\n"
   ]
  },
  {
   "cell_type": "code",
   "execution_count": 86,
   "metadata": {
    "collapsed": false
   },
   "outputs": [
    {
     "data": {
      "text/html": [
       "<div>\n",
       "<table border=\"1\" class=\"dataframe\">\n",
       "  <thead>\n",
       "    <tr style=\"text-align: right;\">\n",
       "      <th></th>\n",
       "      <th>AREA</th>\n",
       "      <th>BLDGZIP</th>\n",
       "      <th>COUNTY</th>\n",
       "      <th>CTY_FIPS</th>\n",
       "      <th>POPULATION</th>\n",
       "      <th>PO_NAME</th>\n",
       "      <th>SHAPE_AREA</th>\n",
       "      <th>SHAPE_LEN</th>\n",
       "      <th>STATE</th>\n",
       "      <th>ST_FIPS</th>\n",
       "      <th>URL</th>\n",
       "      <th>ZIPCODE</th>\n",
       "      <th>geometry</th>\n",
       "    </tr>\n",
       "  </thead>\n",
       "  <tbody>\n",
       "    <tr>\n",
       "      <th>0</th>\n",
       "      <td>2.269930e+07</td>\n",
       "      <td>0</td>\n",
       "      <td>Queens</td>\n",
       "      <td>081</td>\n",
       "      <td>18681.0</td>\n",
       "      <td>Jamaica</td>\n",
       "      <td>0.0</td>\n",
       "      <td>0.0</td>\n",
       "      <td>NY</td>\n",
       "      <td>36</td>\n",
       "      <td>http://www.usps.com/</td>\n",
       "      <td>11436</td>\n",
       "      <td>POLYGON ((1038098.251871482 188138.3800067157,...</td>\n",
       "    </tr>\n",
       "    <tr>\n",
       "      <th>1</th>\n",
       "      <td>2.963100e+07</td>\n",
       "      <td>0</td>\n",
       "      <td>Kings</td>\n",
       "      <td>047</td>\n",
       "      <td>62426.0</td>\n",
       "      <td>Brooklyn</td>\n",
       "      <td>0.0</td>\n",
       "      <td>0.0</td>\n",
       "      <td>NY</td>\n",
       "      <td>36</td>\n",
       "      <td>http://www.usps.com/</td>\n",
       "      <td>11213</td>\n",
       "      <td>POLYGON ((1001613.712964058 186926.4395172149,...</td>\n",
       "    </tr>\n",
       "    <tr>\n",
       "      <th>2</th>\n",
       "      <td>4.197210e+07</td>\n",
       "      <td>0</td>\n",
       "      <td>Kings</td>\n",
       "      <td>047</td>\n",
       "      <td>83866.0</td>\n",
       "      <td>Brooklyn</td>\n",
       "      <td>0.0</td>\n",
       "      <td>0.0</td>\n",
       "      <td>NY</td>\n",
       "      <td>36</td>\n",
       "      <td>http://www.usps.com/</td>\n",
       "      <td>11212</td>\n",
       "      <td>POLYGON ((1011174.275535807 183696.33770971, 1...</td>\n",
       "    </tr>\n",
       "    <tr>\n",
       "      <th>3</th>\n",
       "      <td>2.369863e+07</td>\n",
       "      <td>0</td>\n",
       "      <td>Kings</td>\n",
       "      <td>047</td>\n",
       "      <td>56527.0</td>\n",
       "      <td>Brooklyn</td>\n",
       "      <td>0.0</td>\n",
       "      <td>0.0</td>\n",
       "      <td>NY</td>\n",
       "      <td>36</td>\n",
       "      <td>http://www.usps.com/</td>\n",
       "      <td>11225</td>\n",
       "      <td>POLYGON ((995908.3654508889 183617.6128015518,...</td>\n",
       "    </tr>\n",
       "    <tr>\n",
       "      <th>4</th>\n",
       "      <td>3.686880e+07</td>\n",
       "      <td>0</td>\n",
       "      <td>Kings</td>\n",
       "      <td>047</td>\n",
       "      <td>72280.0</td>\n",
       "      <td>Brooklyn</td>\n",
       "      <td>0.0</td>\n",
       "      <td>0.0</td>\n",
       "      <td>NY</td>\n",
       "      <td>36</td>\n",
       "      <td>http://www.usps.com/</td>\n",
       "      <td>11218</td>\n",
       "      <td>POLYGON ((991997.1134308875 176307.4958601296,...</td>\n",
       "    </tr>\n",
       "  </tbody>\n",
       "</table>\n",
       "</div>"
      ],
      "text/plain": [
       "           AREA BLDGZIP  COUNTY CTY_FIPS  POPULATION   PO_NAME  SHAPE_AREA  \\\n",
       "0  2.269930e+07       0  Queens      081     18681.0   Jamaica         0.0   \n",
       "1  2.963100e+07       0   Kings      047     62426.0  Brooklyn         0.0   \n",
       "2  4.197210e+07       0   Kings      047     83866.0  Brooklyn         0.0   \n",
       "3  2.369863e+07       0   Kings      047     56527.0  Brooklyn         0.0   \n",
       "4  3.686880e+07       0   Kings      047     72280.0  Brooklyn         0.0   \n",
       "\n",
       "   SHAPE_LEN STATE ST_FIPS                   URL ZIPCODE  \\\n",
       "0        0.0    NY      36  http://www.usps.com/   11436   \n",
       "1        0.0    NY      36  http://www.usps.com/   11213   \n",
       "2        0.0    NY      36  http://www.usps.com/   11212   \n",
       "3        0.0    NY      36  http://www.usps.com/   11225   \n",
       "4        0.0    NY      36  http://www.usps.com/   11218   \n",
       "\n",
       "                                            geometry  \n",
       "0  POLYGON ((1038098.251871482 188138.3800067157,...  \n",
       "1  POLYGON ((1001613.712964058 186926.4395172149,...  \n",
       "2  POLYGON ((1011174.275535807 183696.33770971, 1...  \n",
       "3  POLYGON ((995908.3654508889 183617.6128015518,...  \n",
       "4  POLYGON ((991997.1134308875 176307.4958601296,...  "
      ]
     },
     "execution_count": 86,
     "metadata": {},
     "output_type": "execute_result"
    }
   ],
   "source": [
    "zip_shape.head()"
   ]
  },
  {
   "cell_type": "code",
   "execution_count": 87,
   "metadata": {
    "collapsed": false
   },
   "outputs": [],
   "source": [
    "zip_shape = zip_shape[['ZIPCODE','geometry']]\n",
    "zip_shape['center'] = zip_shape.geometry.centroid"
   ]
  },
  {
   "cell_type": "code",
   "execution_count": 88,
   "metadata": {
    "collapsed": false
   },
   "outputs": [
    {
     "data": {
      "text/html": [
       "<div>\n",
       "<table border=\"1\" class=\"dataframe\">\n",
       "  <thead>\n",
       "    <tr style=\"text-align: right;\">\n",
       "      <th></th>\n",
       "      <th>ZIPCODE</th>\n",
       "      <th>geometry</th>\n",
       "      <th>center</th>\n",
       "    </tr>\n",
       "  </thead>\n",
       "  <tbody>\n",
       "    <tr>\n",
       "      <th>0</th>\n",
       "      <td>11436</td>\n",
       "      <td>POLYGON ((1038098.251871482 188138.3800067157,...</td>\n",
       "      <td>POINT (1040696.262135346 185580.2219140405)</td>\n",
       "    </tr>\n",
       "    <tr>\n",
       "      <th>1</th>\n",
       "      <td>11213</td>\n",
       "      <td>POLYGON ((1001613.712964058 186926.4395172149,...</td>\n",
       "      <td>POINT (1001912.871996466 183803.1131420481)</td>\n",
       "    </tr>\n",
       "    <tr>\n",
       "      <th>2</th>\n",
       "      <td>11212</td>\n",
       "      <td>POLYGON ((1011174.275535807 183696.33770971, 1...</td>\n",
       "      <td>POINT (1008365.375095716 180768.9448568909)</td>\n",
       "    </tr>\n",
       "    <tr>\n",
       "      <th>3</th>\n",
       "      <td>11225</td>\n",
       "      <td>POLYGON ((995908.3654508889 183617.6128015518,...</td>\n",
       "      <td>POINT (997023.1926918941 180870.3533200975)</td>\n",
       "    </tr>\n",
       "    <tr>\n",
       "      <th>4</th>\n",
       "      <td>11218</td>\n",
       "      <td>POLYGON ((991997.1134308875 176307.4958601296,...</td>\n",
       "      <td>POINT (990785.2911208535 173656.048379133)</td>\n",
       "    </tr>\n",
       "  </tbody>\n",
       "</table>\n",
       "</div>"
      ],
      "text/plain": [
       "  ZIPCODE                                           geometry  \\\n",
       "0   11436  POLYGON ((1038098.251871482 188138.3800067157,...   \n",
       "1   11213  POLYGON ((1001613.712964058 186926.4395172149,...   \n",
       "2   11212  POLYGON ((1011174.275535807 183696.33770971, 1...   \n",
       "3   11225  POLYGON ((995908.3654508889 183617.6128015518,...   \n",
       "4   11218  POLYGON ((991997.1134308875 176307.4958601296,...   \n",
       "\n",
       "                                        center  \n",
       "0  POINT (1040696.262135346 185580.2219140405)  \n",
       "1  POINT (1001912.871996466 183803.1131420481)  \n",
       "2  POINT (1008365.375095716 180768.9448568909)  \n",
       "3  POINT (997023.1926918941 180870.3533200975)  \n",
       "4   POINT (990785.2911208535 173656.048379133)  "
      ]
     },
     "execution_count": 88,
     "metadata": {},
     "output_type": "execute_result"
    }
   ],
   "source": [
    "zip_shape.head()"
   ]
  },
  {
   "cell_type": "code",
   "execution_count": 89,
   "metadata": {
    "collapsed": true
   },
   "outputs": [],
   "source": [
    "facilities.zipcodes = facilities.zipcodes.astype(str)"
   ]
  },
  {
   "cell_type": "code",
   "execution_count": 90,
   "metadata": {
    "collapsed": false
   },
   "outputs": [],
   "source": [
    "merged = pd.merge(facilities, zip_shape, how='inner', left_on='zipcodes', right_on='ZIPCODE')"
   ]
  },
  {
   "cell_type": "code",
   "execution_count": 91,
   "metadata": {
    "collapsed": false
   },
   "outputs": [],
   "source": [
    "merged = merged[['count', 'zipcodes','center']]"
   ]
  },
  {
   "cell_type": "code",
   "execution_count": 92,
   "metadata": {
    "collapsed": false
   },
   "outputs": [
    {
     "data": {
      "text/html": [
       "<div>\n",
       "<table border=\"1\" class=\"dataframe\">\n",
       "  <thead>\n",
       "    <tr style=\"text-align: right;\">\n",
       "      <th></th>\n",
       "      <th>count</th>\n",
       "      <th>zipcodes</th>\n",
       "      <th>center</th>\n",
       "    </tr>\n",
       "  </thead>\n",
       "  <tbody>\n",
       "    <tr>\n",
       "      <th>0</th>\n",
       "      <td>1699</td>\n",
       "      <td>10461</td>\n",
       "      <td>POINT (1028292.72437689 247902.4282787614)</td>\n",
       "    </tr>\n",
       "    <tr>\n",
       "      <th>1</th>\n",
       "      <td>405</td>\n",
       "      <td>11373</td>\n",
       "      <td>POINT (1017941.215480481 208485.1046661779)</td>\n",
       "    </tr>\n",
       "    <tr>\n",
       "      <th>2</th>\n",
       "      <td>1698</td>\n",
       "      <td>10451</td>\n",
       "      <td>POINT (1005358.961284301 238316.0675161843)</td>\n",
       "    </tr>\n",
       "    <tr>\n",
       "      <th>3</th>\n",
       "      <td>220</td>\n",
       "      <td>11691</td>\n",
       "      <td>POINT (1050360.772370908 158235.4624321515)</td>\n",
       "    </tr>\n",
       "    <tr>\n",
       "      <th>4</th>\n",
       "      <td>246</td>\n",
       "      <td>11375</td>\n",
       "      <td>POINT (1026858.206454871 201880.2234817908)</td>\n",
       "    </tr>\n",
       "  </tbody>\n",
       "</table>\n",
       "</div>"
      ],
      "text/plain": [
       "   count zipcodes                                       center\n",
       "0   1699    10461   POINT (1028292.72437689 247902.4282787614)\n",
       "1    405    11373  POINT (1017941.215480481 208485.1046661779)\n",
       "2   1698    10451  POINT (1005358.961284301 238316.0675161843)\n",
       "3    220    11691  POINT (1050360.772370908 158235.4624321515)\n",
       "4    246    11375  POINT (1026858.206454871 201880.2234817908)"
      ]
     },
     "execution_count": 92,
     "metadata": {},
     "output_type": "execute_result"
    }
   ],
   "source": [
    "merged.head()"
   ]
  },
  {
   "cell_type": "code",
   "execution_count": 96,
   "metadata": {
    "collapsed": false
   },
   "outputs": [],
   "source": [
    "merged['x'] = [i.x for i in merged.center]\n",
    "merged['y'] = [i.y for i in merged.center]"
   ]
  },
  {
   "cell_type": "code",
   "execution_count": 97,
   "metadata": {
    "collapsed": false
   },
   "outputs": [
    {
     "data": {
      "text/html": [
       "<div>\n",
       "<table border=\"1\" class=\"dataframe\">\n",
       "  <thead>\n",
       "    <tr style=\"text-align: right;\">\n",
       "      <th></th>\n",
       "      <th>count</th>\n",
       "      <th>zipcodes</th>\n",
       "      <th>center</th>\n",
       "      <th>x</th>\n",
       "      <th>y</th>\n",
       "    </tr>\n",
       "  </thead>\n",
       "  <tbody>\n",
       "    <tr>\n",
       "      <th>0</th>\n",
       "      <td>1699</td>\n",
       "      <td>10461</td>\n",
       "      <td>POINT (1028292.72437689 247902.4282787614)</td>\n",
       "      <td>1.028293e+06</td>\n",
       "      <td>247902.428279</td>\n",
       "    </tr>\n",
       "    <tr>\n",
       "      <th>1</th>\n",
       "      <td>405</td>\n",
       "      <td>11373</td>\n",
       "      <td>POINT (1017941.215480481 208485.1046661779)</td>\n",
       "      <td>1.017941e+06</td>\n",
       "      <td>208485.104666</td>\n",
       "    </tr>\n",
       "    <tr>\n",
       "      <th>2</th>\n",
       "      <td>1698</td>\n",
       "      <td>10451</td>\n",
       "      <td>POINT (1005358.961284301 238316.0675161843)</td>\n",
       "      <td>1.005359e+06</td>\n",
       "      <td>238316.067516</td>\n",
       "    </tr>\n",
       "    <tr>\n",
       "      <th>3</th>\n",
       "      <td>220</td>\n",
       "      <td>11691</td>\n",
       "      <td>POINT (1050360.772370908 158235.4624321515)</td>\n",
       "      <td>1.050361e+06</td>\n",
       "      <td>158235.462432</td>\n",
       "    </tr>\n",
       "    <tr>\n",
       "      <th>4</th>\n",
       "      <td>246</td>\n",
       "      <td>11375</td>\n",
       "      <td>POINT (1026858.206454871 201880.2234817908)</td>\n",
       "      <td>1.026858e+06</td>\n",
       "      <td>201880.223482</td>\n",
       "    </tr>\n",
       "  </tbody>\n",
       "</table>\n",
       "</div>"
      ],
      "text/plain": [
       "   count zipcodes                                       center             x  \\\n",
       "0   1699    10461   POINT (1028292.72437689 247902.4282787614)  1.028293e+06   \n",
       "1    405    11373  POINT (1017941.215480481 208485.1046661779)  1.017941e+06   \n",
       "2   1698    10451  POINT (1005358.961284301 238316.0675161843)  1.005359e+06   \n",
       "3    220    11691  POINT (1050360.772370908 158235.4624321515)  1.050361e+06   \n",
       "4    246    11375  POINT (1026858.206454871 201880.2234817908)  1.026858e+06   \n",
       "\n",
       "               y  \n",
       "0  247902.428279  \n",
       "1  208485.104666  \n",
       "2  238316.067516  \n",
       "3  158235.462432  \n",
       "4  201880.223482  "
      ]
     },
     "execution_count": 97,
     "metadata": {},
     "output_type": "execute_result"
    }
   ],
   "source": [
    "merged.head()"
   ]
  },
  {
   "cell_type": "code",
   "execution_count": 104,
   "metadata": {
    "collapsed": false
   },
   "outputs": [
    {
     "data": {
      "text/plain": [
       "<matplotlib.text.Text at 0x7fe8cd3c3390>"
      ]
     },
     "execution_count": 104,
     "metadata": {},
     "output_type": "execute_result"
    },
    {
     "data": {
      "image/png": "[encoded data removed]",
      "text/plain": [
       "<matplotlib.figure.Figure at 0x7fe8cd444910>"
      ]
     },
     "metadata": {},
     "output_type": "display_data"
    }
   ],
   "source": [
    "#plot the x and y coordinates for counts\n",
    "ax = pl.figure(figsize=(10,10)).add_subplot(111)\n",
    "ax.scatter(merged.x, merged.y, s=100, c = merged['count']/2.0, cmap='bone')\n",
    "ax.set_xlabel('Easting (m)', fontsize=20)\n",
    "ax.set_ylabel('Northing (m)', fontsize=20)\n",
    "ax.set_title('Asthma Dismissal')"
   ]
  },
  {
   "cell_type": "code",
   "execution_count": null,
   "metadata": {
    "collapsed": true
   },
   "outputs": [],
   "source": []
  },
  {
   "cell_type": "code",
   "execution_count": null,
   "metadata": {
    "collapsed": true
   },
   "outputs": [],
   "source": []
  },
  {
   "cell_type": "code",
   "execution_count": null,
   "metadata": {
    "collapsed": true
   },
   "outputs": [],
   "source": []
  },
  {
   "cell_type": "markdown",
   "metadata": {
    "collapsed": true
   },
   "source": [
    "# Create and try to model the semi-variogram as we did in class\n",
    "# https://github.com/fedhere/UInotebooks/blob/master/kriging/kriging_porosity.ipynb\n",
    "# Explain what is going on"
   ]
  },
  {
   "cell_type": "code",
   "execution_count": null,
   "metadata": {
    "collapsed": true
   },
   "outputs": [],
   "source": []
  }
 ],
 "metadata": {
  "kernelspec": {
   "display_name": "PUI2016_Python2",
   "language": "python",
   "name": "pui2016_python2"
  },
  "language_info": {
   "codemirror_mode": {
    "name": "ipython",
    "version": 2
   },
   "file_extension": ".py",
   "mimetype": "text/x-python",
   "name": "python",
   "nbconvert_exporter": "python",
   "pygments_lexer": "ipython2",
   "version": "2.7.12"
  }
 },
 "nbformat": 4,
 "nbformat_minor": 0
}
