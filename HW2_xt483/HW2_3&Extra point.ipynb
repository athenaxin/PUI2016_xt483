{
 "cells": [
  {
   "cell_type": "code",
   "execution_count": 37,
   "metadata": {
    "collapsed": false
   },
   "outputs": [
    {
     "name": "stdout",
     "output_type": "stream",
     "text": [
      "Populating the interactive namespace from numpy and matplotlib\n"
     ]
    }
   ],
   "source": [
    "import os\n",
    "import sys\n",
    "import numpy as np\n",
    "import pandas as pd\n",
    "%pylab inline\n"
   ]
  },
  {
   "cell_type": "code",
   "execution_count": 73,
   "metadata": {
    "collapsed": false
   },
   "outputs": [
    {
     "data": {
      "text/plain": [
       "'/gws/open/NYCOpenData/nycopendata/data'"
      ]
     },
     "execution_count": 73,
     "metadata": {},
     "output_type": "execute_result"
    }
   ],
   "source": [
    "path = os.getenv(\"DFDATA\")\n",
    "path"
   ]
  },
  {
   "cell_type": "code",
   "execution_count": 46,
   "metadata": {
    "collapsed": false
   },
   "outputs": [
    {
     "data": {
      "text/html": [
       "<div>\n",
       "<table border=\"1\" class=\"dataframe\">\n",
       "  <thead>\n",
       "    <tr style=\"text-align: right;\">\n",
       "      <th></th>\n",
       "      <th>Record ID</th>\n",
       "      <th>Certificate Number</th>\n",
       "      <th>Business Name</th>\n",
       "      <th>Violation Date</th>\n",
       "      <th>Industry</th>\n",
       "      <th>Borough</th>\n",
       "      <th>Charge</th>\n",
       "      <th>Charge Count</th>\n",
       "      <th>Outcome</th>\n",
       "      <th>Counts Settled</th>\n",
       "      <th>...</th>\n",
       "      <th>Street</th>\n",
       "      <th>Street 2</th>\n",
       "      <th>Unit Type</th>\n",
       "      <th>Unit</th>\n",
       "      <th>Description</th>\n",
       "      <th>City</th>\n",
       "      <th>State</th>\n",
       "      <th>Zip</th>\n",
       "      <th>Longitude</th>\n",
       "      <th>Latitude</th>\n",
       "    </tr>\n",
       "  </thead>\n",
       "  <tbody>\n",
       "    <tr>\n",
       "      <th>0</th>\n",
       "      <td>16185-2015-ENFO</td>\n",
       "      <td>70025291</td>\n",
       "      <td>SARAH GOURMET DELI &amp; GRILL INC.</td>\n",
       "      <td>03/29/2015</td>\n",
       "      <td>Cigarette Retail Dealer - 127</td>\n",
       "      <td>Brooklyn</td>\n",
       "      <td>NYC Admin Code § 17-706(a) - SOLD TOBACCO PROD...</td>\n",
       "      <td>1</td>\n",
       "      <td>Default Decision</td>\n",
       "      <td>NaN</td>\n",
       "      <td>...</td>\n",
       "      <td>AVENUE N</td>\n",
       "      <td>NaN</td>\n",
       "      <td>NaN</td>\n",
       "      <td>NaN</td>\n",
       "      <td>NaN</td>\n",
       "      <td>BROOKLYN</td>\n",
       "      <td>NY</td>\n",
       "      <td>11234.0</td>\n",
       "      <td>-73.922854</td>\n",
       "      <td>40.619192</td>\n",
       "    </tr>\n",
       "    <tr>\n",
       "      <th>1</th>\n",
       "      <td>41635-2015-ENFO</td>\n",
       "      <td>05381046</td>\n",
       "      <td>MOBILE CITY 108, INC.</td>\n",
       "      <td>07/20/2015</td>\n",
       "      <td>Electronic Store - 001</td>\n",
       "      <td>Manhattan</td>\n",
       "      <td>NYC Admin Code § 20-485.5(b) - TOTAL SELLING P...</td>\n",
       "      <td>1</td>\n",
       "      <td>Pleaded</td>\n",
       "      <td>1.0</td>\n",
       "      <td>...</td>\n",
       "      <td>BROADWAY</td>\n",
       "      <td>NaN</td>\n",
       "      <td>NaN</td>\n",
       "      <td>NaN</td>\n",
       "      <td>NaN</td>\n",
       "      <td>NEW YORK</td>\n",
       "      <td>NY</td>\n",
       "      <td>10025.0</td>\n",
       "      <td>-73.967495</td>\n",
       "      <td>40.803065</td>\n",
       "    </tr>\n",
       "    <tr>\n",
       "      <th>2</th>\n",
       "      <td>44029-2016-ENFO</td>\n",
       "      <td>05399742</td>\n",
       "      <td>PATEL, ASHOK</td>\n",
       "      <td>06/29/2016</td>\n",
       "      <td>Cigarette Retail Dealer - 127</td>\n",
       "      <td>Manhattan</td>\n",
       "      <td>6 RCNY § 1-03(a) - FAILED TO CONSPICUOUSLY POS...</td>\n",
       "      <td>1</td>\n",
       "      <td>NaN</td>\n",
       "      <td>NaN</td>\n",
       "      <td>...</td>\n",
       "      <td>PARK AVE</td>\n",
       "      <td>NaN</td>\n",
       "      <td>NaN</td>\n",
       "      <td>NaN</td>\n",
       "      <td>NaN</td>\n",
       "      <td>NEW YORK</td>\n",
       "      <td>NY</td>\n",
       "      <td>10022.0</td>\n",
       "      <td>-73.971042</td>\n",
       "      <td>40.761190</td>\n",
       "    </tr>\n",
       "    <tr>\n",
       "      <th>3</th>\n",
       "      <td>68562-2015-ENFO</td>\n",
       "      <td>05389114</td>\n",
       "      <td>GRISTEDES</td>\n",
       "      <td>12/04/2015</td>\n",
       "      <td>Supermarket - 819</td>\n",
       "      <td>Manhattan</td>\n",
       "      <td>NYC Admin Code § 20-708.1(b) - 5 OR MORE STOCK...</td>\n",
       "      <td>9</td>\n",
       "      <td>NaN</td>\n",
       "      <td>NaN</td>\n",
       "      <td>...</td>\n",
       "      <td>W 96TH ST</td>\n",
       "      <td>NaN</td>\n",
       "      <td>NaN</td>\n",
       "      <td>NaN</td>\n",
       "      <td>NaN</td>\n",
       "      <td>NEW YORK</td>\n",
       "      <td>NY</td>\n",
       "      <td>10025.0</td>\n",
       "      <td>-73.972462</td>\n",
       "      <td>40.794928</td>\n",
       "    </tr>\n",
       "    <tr>\n",
       "      <th>4</th>\n",
       "      <td>47998-2015-ENFO</td>\n",
       "      <td>05379790</td>\n",
       "      <td>EL VERDE MEAT &amp; PRODUCE INC.</td>\n",
       "      <td>07/28/2015</td>\n",
       "      <td>Supermarket - 819</td>\n",
       "      <td>Brooklyn</td>\n",
       "      <td>NYC Admin Code § 20-822(a) - SALE OF EXPIRED M...</td>\n",
       "      <td>2</td>\n",
       "      <td>Settlement (Pre-Hearing)</td>\n",
       "      <td>2.0</td>\n",
       "      <td>...</td>\n",
       "      <td>CRESCENT ST</td>\n",
       "      <td>NaN</td>\n",
       "      <td>NaN</td>\n",
       "      <td>NaN</td>\n",
       "      <td>NaN</td>\n",
       "      <td>BROOKLYN</td>\n",
       "      <td>NY</td>\n",
       "      <td>11208.0</td>\n",
       "      <td>-73.867335</td>\n",
       "      <td>40.664754</td>\n",
       "    </tr>\n",
       "  </tbody>\n",
       "</table>\n",
       "<p>5 rows × 23 columns</p>\n",
       "</div>"
      ],
      "text/plain": [
       "         Record ID Certificate Number                    Business Name  \\\n",
       "0  16185-2015-ENFO           70025291  SARAH GOURMET DELI & GRILL INC.   \n",
       "1  41635-2015-ENFO           05381046            MOBILE CITY 108, INC.   \n",
       "2  44029-2016-ENFO           05399742                     PATEL, ASHOK   \n",
       "3  68562-2015-ENFO           05389114                        GRISTEDES   \n",
       "4  47998-2015-ENFO           05379790     EL VERDE MEAT & PRODUCE INC.   \n",
       "\n",
       "  Violation Date                       Industry    Borough  \\\n",
       "0     03/29/2015  Cigarette Retail Dealer - 127   Brooklyn   \n",
       "1     07/20/2015         Electronic Store - 001  Manhattan   \n",
       "2     06/29/2016  Cigarette Retail Dealer - 127  Manhattan   \n",
       "3     12/04/2015              Supermarket - 819  Manhattan   \n",
       "4     07/28/2015              Supermarket - 819   Brooklyn   \n",
       "\n",
       "                                              Charge  Charge Count  \\\n",
       "0  NYC Admin Code § 17-706(a) - SOLD TOBACCO PROD...             1   \n",
       "1  NYC Admin Code § 20-485.5(b) - TOTAL SELLING P...             1   \n",
       "2  6 RCNY § 1-03(a) - FAILED TO CONSPICUOUSLY POS...             1   \n",
       "3  NYC Admin Code § 20-708.1(b) - 5 OR MORE STOCK...             9   \n",
       "4  NYC Admin Code § 20-822(a) - SALE OF EXPIRED M...             2   \n",
       "\n",
       "                    Outcome  Counts Settled    ...           Street  Street 2  \\\n",
       "0          Default Decision             NaN    ...         AVENUE N       NaN   \n",
       "1                   Pleaded             1.0    ...         BROADWAY       NaN   \n",
       "2                       NaN             NaN    ...         PARK AVE       NaN   \n",
       "3                       NaN             NaN    ...        W 96TH ST       NaN   \n",
       "4  Settlement (Pre-Hearing)             2.0    ...      CRESCENT ST       NaN   \n",
       "\n",
       "  Unit Type Unit Description      City State      Zip  Longitude   Latitude  \n",
       "0       NaN  NaN         NaN  BROOKLYN    NY  11234.0 -73.922854  40.619192  \n",
       "1       NaN  NaN         NaN  NEW YORK    NY  10025.0 -73.967495  40.803065  \n",
       "2       NaN  NaN         NaN  NEW YORK    NY  10022.0 -73.971042  40.761190  \n",
       "3       NaN  NaN         NaN  NEW YORK    NY  10025.0 -73.972462  40.794928  \n",
       "4       NaN  NaN         NaN  BROOKLYN    NY  11208.0 -73.867335  40.664754  \n",
       "\n",
       "[5 rows x 23 columns]"
      ]
     },
     "execution_count": 46,
     "metadata": {},
     "output_type": "execute_result"
    }
   ],
   "source": [
    "df = pd.read_csv(r'/gws/open/NYCOpenData/nycopendata/data/5fn4-dr26/1473436543/5fn4-dr26.csv')\n",
    "df.head()"
   ]
  },
  {
   "cell_type": "code",
   "execution_count": 75,
   "metadata": {
    "collapsed": false
   },
   "outputs": [
    {
     "data": {
      "text/html": [
       "<div>\n",
       "<table border=\"1\" class=\"dataframe\">\n",
       "  <thead>\n",
       "    <tr style=\"text-align: right;\">\n",
       "      <th></th>\n",
       "      <th>Charge Count</th>\n",
       "      <th>Zip</th>\n",
       "    </tr>\n",
       "  </thead>\n",
       "  <tbody>\n",
       "    <tr>\n",
       "      <th>0</th>\n",
       "      <td>1</td>\n",
       "      <td>11234.0</td>\n",
       "    </tr>\n",
       "    <tr>\n",
       "      <th>1</th>\n",
       "      <td>1</td>\n",
       "      <td>10025.0</td>\n",
       "    </tr>\n",
       "    <tr>\n",
       "      <th>2</th>\n",
       "      <td>1</td>\n",
       "      <td>10022.0</td>\n",
       "    </tr>\n",
       "    <tr>\n",
       "      <th>3</th>\n",
       "      <td>9</td>\n",
       "      <td>10025.0</td>\n",
       "    </tr>\n",
       "    <tr>\n",
       "      <th>4</th>\n",
       "      <td>2</td>\n",
       "      <td>11208.0</td>\n",
       "    </tr>\n",
       "    <tr>\n",
       "      <th>5</th>\n",
       "      <td>1</td>\n",
       "      <td>11229.0</td>\n",
       "    </tr>\n",
       "    <tr>\n",
       "      <th>6</th>\n",
       "      <td>1</td>\n",
       "      <td>11433.0</td>\n",
       "    </tr>\n",
       "    <tr>\n",
       "      <th>7</th>\n",
       "      <td>1</td>\n",
       "      <td>11225.0</td>\n",
       "    </tr>\n",
       "    <tr>\n",
       "      <th>8</th>\n",
       "      <td>1</td>\n",
       "      <td>10452.0</td>\n",
       "    </tr>\n",
       "    <tr>\n",
       "      <th>9</th>\n",
       "      <td>1</td>\n",
       "      <td>10461.0</td>\n",
       "    </tr>\n",
       "    <tr>\n",
       "      <th>10</th>\n",
       "      <td>1</td>\n",
       "      <td>10003.0</td>\n",
       "    </tr>\n",
       "    <tr>\n",
       "      <th>11</th>\n",
       "      <td>1</td>\n",
       "      <td>11224.0</td>\n",
       "    </tr>\n",
       "    <tr>\n",
       "      <th>12</th>\n",
       "      <td>1</td>\n",
       "      <td>11413.0</td>\n",
       "    </tr>\n",
       "    <tr>\n",
       "      <th>13</th>\n",
       "      <td>1</td>\n",
       "      <td>11421.0</td>\n",
       "    </tr>\n",
       "    <tr>\n",
       "      <th>14</th>\n",
       "      <td>1</td>\n",
       "      <td>11223.0</td>\n",
       "    </tr>\n",
       "    <tr>\n",
       "      <th>15</th>\n",
       "      <td>1</td>\n",
       "      <td>11419.0</td>\n",
       "    </tr>\n",
       "    <tr>\n",
       "      <th>16</th>\n",
       "      <td>1</td>\n",
       "      <td>10455.0</td>\n",
       "    </tr>\n",
       "    <tr>\n",
       "      <th>17</th>\n",
       "      <td>1</td>\n",
       "      <td>10314.0</td>\n",
       "    </tr>\n",
       "    <tr>\n",
       "      <th>18</th>\n",
       "      <td>1</td>\n",
       "      <td>11102.0</td>\n",
       "    </tr>\n",
       "    <tr>\n",
       "      <th>19</th>\n",
       "      <td>1</td>\n",
       "      <td>11209.0</td>\n",
       "    </tr>\n",
       "  </tbody>\n",
       "</table>\n",
       "</div>"
      ],
      "text/plain": [
       "    Charge Count      Zip\n",
       "0              1  11234.0\n",
       "1              1  10025.0\n",
       "2              1  10022.0\n",
       "3              9  10025.0\n",
       "4              2  11208.0\n",
       "5              1  11229.0\n",
       "6              1  11433.0\n",
       "7              1  11225.0\n",
       "8              1  10452.0\n",
       "9              1  10461.0\n",
       "10             1  10003.0\n",
       "11             1  11224.0\n",
       "12             1  11413.0\n",
       "13             1  11421.0\n",
       "14             1  11223.0\n",
       "15             1  11419.0\n",
       "16             1  10455.0\n",
       "17             1  10314.0\n",
       "18             1  11102.0\n",
       "19             1  11209.0"
      ]
     },
     "execution_count": 75,
     "metadata": {},
     "output_type": "execute_result"
    }
   ],
   "source": [
    "df1 = df[['Charge Count','Zip']]\n",
    "df1.head(20)"
   ]
  },
  {
   "cell_type": "code",
   "execution_count": 119,
   "metadata": {
    "collapsed": false
   },
   "outputs": [
    {
     "data": {
      "text/plain": [
       "(0, 500)"
      ]
     },
     "execution_count": 119,
     "metadata": {},
     "output_type": "execute_result"
    },
    {
     "data": {
      "image/png": "[encoded data removed]",
      "text/plain": [
       "<matplotlib.figure.Figure at 0x7fe21dc16310>"
      ]
     },
     "metadata": {},
     "output_type": "display_data"
    }
   ],
   "source": [
    "\n",
    "pl = df1.plot.scatter(x = 'Zip', y = 'Charge Count', alpha = 0.2, title = 'Charge in Different Zip' )\n",
    "pl.set_ylim([0,500])\n"
   ]
  },
  {
   "cell_type": "code",
   "execution_count": 131,
   "metadata": {
    "collapsed": false
   },
   "outputs": [
    {
     "data": {
      "text/html": [
       "<div>\n",
       "<table border=\"1\" class=\"dataframe\">\n",
       "  <thead>\n",
       "    <tr style=\"text-align: right;\">\n",
       "      <th></th>\n",
       "      <th>Violation Date</th>\n",
       "      <th>Charge Count</th>\n",
       "    </tr>\n",
       "  </thead>\n",
       "  <tbody>\n",
       "    <tr>\n",
       "      <th>0</th>\n",
       "      <td>03/29/2015</td>\n",
       "      <td>1</td>\n",
       "    </tr>\n",
       "    <tr>\n",
       "      <th>1</th>\n",
       "      <td>07/20/2015</td>\n",
       "      <td>1</td>\n",
       "    </tr>\n",
       "    <tr>\n",
       "      <th>2</th>\n",
       "      <td>06/29/2016</td>\n",
       "      <td>1</td>\n",
       "    </tr>\n",
       "    <tr>\n",
       "      <th>3</th>\n",
       "      <td>12/04/2015</td>\n",
       "      <td>9</td>\n",
       "    </tr>\n",
       "    <tr>\n",
       "      <th>4</th>\n",
       "      <td>07/28/2015</td>\n",
       "      <td>2</td>\n",
       "    </tr>\n",
       "  </tbody>\n",
       "</table>\n",
       "</div>"
      ],
      "text/plain": [
       "  Violation Date  Charge Count\n",
       "0     03/29/2015             1\n",
       "1     07/20/2015             1\n",
       "2     06/29/2016             1\n",
       "3     12/04/2015             9\n",
       "4     07/28/2015             2"
      ]
     },
     "execution_count": 131,
     "metadata": {},
     "output_type": "execute_result"
    }
   ],
   "source": [
    "#Extra Point\n",
    "df2 = df[['Violation Date','Charge Count']]\n",
    "df2.head()\n"
   ]
  },
  {
   "cell_type": "code",
   "execution_count": 132,
   "metadata": {
    "collapsed": false
   },
   "outputs": [
    {
     "data": {
      "image/png": "[encoded data removed]",
      "text/plain": [
       "<matplotlib.figure.Figure at 0x7fe21b09f610>"
      ]
     },
     "metadata": {},
     "output_type": "display_data"
    }
   ],
   "source": [
    "\n",
    "pl2 = df2.plot(x = df2.columns.values.tolist()[0], y = df2.columns.values.tolist()[1], ylim = ([0,500]),color = 'grey', rot=90)\n"
   ]
  }
 ],
 "metadata": {
  "kernelspec": {
   "display_name": "PUI2016_Python2",
   "language": "python",
   "name": "pui2016_python2"
  },
  "language_info": {
   "codemirror_mode": {
    "name": "ipython",
    "version": 2
   },
   "file_extension": ".py",
   "mimetype": "text/x-python",
   "name": "python",
   "nbconvert_exporter": "python",
   "pygments_lexer": "ipython2",
   "version": "2.7.12"
  }
 },
 "nbformat": 4,
 "nbformat_minor": 0
}
